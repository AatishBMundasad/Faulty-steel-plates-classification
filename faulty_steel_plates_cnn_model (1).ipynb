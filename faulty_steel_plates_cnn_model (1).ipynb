{
 "cells": [
  {
   "cell_type": "code",
   "execution_count": 36,
   "metadata": {},
   "outputs": [],
   "source": [
    "base_dir=r\"F:\\mechanical notes\\DATA SCIENCE (ML)\\faulty steel plates dataset\"\n",
    "import os\n",
    "import tensorflow as tf"
   ]
  },
  {
   "cell_type": "code",
   "execution_count": 8,
   "metadata": {},
   "outputs": [],
   "source": [
    "train_dir=os.path.join(base_dir, 'Train')\n",
    "validation_dir=os.path.join(base_dir, 'Test')"
   ]
  },
  {
   "cell_type": "code",
   "execution_count": 9,
   "metadata": {},
   "outputs": [],
   "source": [
    "train_defects_dir=os.path.join(train_dir, 'defects')\n",
    "train_without_defects_dir=os.path.join(train_dir, 'without_defects')"
   ]
  },
  {
   "cell_type": "code",
   "execution_count": 10,
   "metadata": {},
   "outputs": [],
   "source": [
    "validation_defects_dir=os.path.join(validation_dir, 'defects')\n",
    "validation_without_defects_dir=os.path.join(validation_dir, 'without_defects')"
   ]
  },
  {
   "cell_type": "code",
   "execution_count": 11,
   "metadata": {},
   "outputs": [],
   "source": [
    "from tensorflow.keras.preprocessing.image import ImageDataGenerator\n",
    "\n",
    "train_datagen = ImageDataGenerator(rescale = 1.0/255.)\n",
    "test_datagen = ImageDataGenerator(rescale = 1.0/255.)"
   ]
  },
  {
   "cell_type": "code",
   "execution_count": 12,
   "metadata": {},
   "outputs": [
    {
     "name": "stdout",
     "output_type": "stream",
     "text": [
      "Found 180 images belonging to 2 classes.\n"
     ]
    }
   ],
   "source": [
    "train_generator = train_datagen.flow_from_directory(train_dir,\n",
    "                                                    batch_size=10,\n",
    "                                                    class_mode='binary',\n",
    "                                                    target_size=(150,150))"
   ]
  },
  {
   "cell_type": "code",
   "execution_count": 13,
   "metadata": {},
   "outputs": [
    {
     "name": "stdout",
     "output_type": "stream",
     "text": [
      "Found 710 images belonging to 2 classes.\n"
     ]
    }
   ],
   "source": [
    "validation_generator= test_datagen.flow_from_directory(validation_dir,\n",
    "                                                       batch_size=10,\n",
    "                                                        class_mode = 'binary',\n",
    "                                                       target_size = (150, 150))"
   ]
  },
  {
   "cell_type": "code",
   "execution_count": 14,
   "metadata": {},
   "outputs": [
    {
     "name": "stdout",
     "output_type": "stream",
     "text": [
      "WARNING:tensorflow:From C:\\Users\\HP\\Anaconda3\\lib\\site-packages\\tensorflow\\python\\ops\\resource_variable_ops.py:435: colocate_with (from tensorflow.python.framework.ops) is deprecated and will be removed in a future version.\n",
      "Instructions for updating:\n",
      "Colocations handled automatically by placer.\n"
     ]
    }
   ],
   "source": [
    "model= tf.keras.models.Sequential([\n",
    "    tf.keras.layers.Conv2D(16, (3,3), activation='relu', input_shape=(150, 150, 3)),\n",
    "    tf.keras.layers.MaxPooling2D(2,2),\n",
    "    tf.keras.layers.Conv2D(32, (3,3), activation='relu'),\n",
    "    tf.keras.layers.MaxPooling2D(2,2),\n",
    "    tf.keras.layers.Conv2D(64, (3,3), activation='relu'),\n",
    "    tf.keras.layers.MaxPooling2D(2,2),\n",
    "    tf.keras.layers.Flatten(),\n",
    "    tf.keras.layers.Dense(1024, activation='relu'),\n",
    "    tf.keras.layers.Dense(1, activation='sigmoid')\n",
    "])"
   ]
  },
  {
   "cell_type": "code",
   "execution_count": 15,
   "metadata": {},
   "outputs": [],
   "source": [
    "from tensorflow.keras.optimizers import RMSprop"
   ]
  },
  {
   "cell_type": "code",
   "execution_count": 16,
   "metadata": {},
   "outputs": [],
   "source": [
    "model.compile(optimizer=RMSprop(lr=0.001),\n",
    "              loss='binary_crossentropy',\n",
    "              metrics = ['acc'])"
   ]
  },
  {
   "cell_type": "code",
   "execution_count": 17,
   "metadata": {},
   "outputs": [
    {
     "name": "stdout",
     "output_type": "stream",
     "text": [
      "WARNING:tensorflow:From C:\\Users\\HP\\Anaconda3\\lib\\site-packages\\tensorflow\\python\\ops\\math_ops.py:3066: to_int32 (from tensorflow.python.ops.math_ops) is deprecated and will be removed in a future version.\n",
      "Instructions for updating:\n",
      "Use tf.cast instead.\n",
      "Epoch 1/10\n",
      "71/71 [==============================] - 5s 67ms/step - loss: 0.5838 - acc: 0.9634\n",
      "18/18 [==============================] - 10s 564ms/step - loss: 5.5308 - acc: 0.6111 - val_loss: 0.5838 - val_acc: 0.9634\n",
      "Epoch 2/10\n",
      "71/71 [==============================] - 5s 71ms/step - loss: 0.5838 - acc: 0.9634\n",
      "18/18 [==============================] - 10s 559ms/step - loss: 5.6684 - acc: 0.6444 - val_loss: 0.5838 - val_acc: 0.9634\n",
      "Epoch 3/10\n",
      "71/71 [==============================] - 8s 114ms/step - loss: 0.5838 - acc: 0.9634\n",
      "18/18 [==============================] - 13s 737ms/step - loss: 5.6684 - acc: 0.6444 - val_loss: 0.5838 - val_acc: 0.9634\n",
      "Epoch 4/10\n",
      "71/71 [==============================] - 5s 71ms/step - loss: 0.5838 - acc: 0.9634\n",
      "18/18 [==============================] - 10s 551ms/step - loss: 5.6684 - acc: 0.6444 - val_loss: 0.5838 - val_acc: 0.9634\n",
      "Epoch 5/10\n",
      "71/71 [==============================] - 5s 76ms/step - loss: 0.5838 - acc: 0.9634\n",
      "18/18 [==============================] - 11s 588ms/step - loss: 5.6684 - acc: 0.6444 - val_loss: 0.5838 - val_acc: 0.9634\n",
      "Epoch 6/10\n",
      "71/71 [==============================] - 7s 102ms/step - loss: 0.5838 - acc: 0.9634\n",
      "18/18 [==============================] - 12s 680ms/step - loss: 5.6684 - acc: 0.6444 - val_loss: 0.5838 - val_acc: 0.9634\n",
      "Epoch 7/10\n",
      "71/71 [==============================] - 5s 68ms/step - loss: 0.5838 - acc: 0.9634\n",
      "18/18 [==============================] - 10s 548ms/step - loss: 5.6684 - acc: 0.6444 - val_loss: 0.5838 - val_acc: 0.9634\n",
      "Epoch 8/10\n",
      "71/71 [==============================] - 5s 74ms/step - loss: 0.5838 - acc: 0.9634\n",
      "18/18 [==============================] - 11s 590ms/step - loss: 5.6684 - acc: 0.6444 - val_loss: 0.5838 - val_acc: 0.9634\n",
      "Epoch 9/10\n",
      "71/71 [==============================] - 8s 112ms/step - loss: 0.5838 - acc: 0.9634\n",
      "18/18 [==============================] - 13s 743ms/step - loss: 5.6684 - acc: 0.6444 - val_loss: 0.5838 - val_acc: 0.9634\n",
      "Epoch 10/10\n",
      "71/71 [==============================] - 5s 68ms/step - loss: 0.5838 - acc: 0.9634\n",
      "18/18 [==============================] - 10s 540ms/step - loss: 5.6684 - acc: 0.6444 - val_loss: 0.5838 - val_acc: 0.9634\n"
     ]
    }
   ],
   "source": [
    "history = model.fit_generator(train_generator,\n",
    "                              validation_data=validation_generator,\n",
    "                              steps_per_epoch=10,\n",
    "                              epochs=10,\n",
    "                              validation_steps=10,\n",
    "                              verbose=1)"
   ]
  },
  {
   "cell_type": "code",
   "execution_count": 23,
   "metadata": {},
   "outputs": [],
   "source": [
    "# os.listdir()\n",
    "model.save('lol.h5')"
   ]
  },
  {
   "cell_type": "code",
   "execution_count": 29,
   "metadata": {},
   "outputs": [],
   "source": [
    "# newlol = tf.keras.models.load_model('lol.model')\n",
    "\n",
    "# Saving the model for Future Inferences\n",
    "\n",
    "model_json = model.to_json()\n",
    "with open(\"model.json\", \"w\") as json_file:\n",
    "    json_file.write(model_json)\n",
    "# serialize weights to HDF5\n",
    "model.save_weights(\"model.h5\")"
   ]
  },
  {
   "cell_type": "code",
   "execution_count": 28,
   "metadata": {},
   "outputs": [
    {
     "data": {
      "text/plain": [
       "array([[1.],\n",
       "       [1.],\n",
       "       [1.],\n",
       "       [1.],\n",
       "       [1.],\n",
       "       [1.],\n",
       "       [1.],\n",
       "       [1.],\n",
       "       [1.],\n",
       "       [1.]], dtype=float32)"
      ]
     },
     "execution_count": 28,
     "metadata": {},
     "output_type": "execute_result"
    }
   ],
   "source": [
    "# newlol.predict(validation_generator[0])"
   ]
  },
  {
   "cell_type": "code",
   "execution_count": 39,
   "metadata": {},
   "outputs": [
    {
     "name": "stdout",
     "output_type": "stream",
     "text": [
      "Loaded Model from disk\n"
     ]
    }
   ],
   "source": [
    "\n",
    "# import tf.keras.models.model_from_json \n",
    "\n",
    "# opening and store file in a variable\n",
    "\n",
    "json_file = open('model.json','r')\n",
    "loaded_model_json = json_file.read()\n",
    "json_file.close()\n",
    "\n",
    "# use Keras model_from_json to make a loaded model\n",
    "\n",
    "loaded_model = tf.keras.models.model_from_json(loaded_model_json)\n",
    "\n",
    "# load weights into new model\n",
    "\n",
    "loaded_model.load_weights(\"model.h5\")\n",
    "print(\"Loaded Model from disk\")\n",
    "\n",
    "# compile and evaluate loaded model\n",
    "\n",
    "loaded_model.compile(loss='categorical_crossentropy',optimizer='adam',metrics=['accuracy'])\n"
   ]
  },
  {
   "cell_type": "code",
   "execution_count": null,
   "metadata": {},
   "outputs": [],
   "source": []
  }
 ],
 "metadata": {
  "kernelspec": {
   "display_name": "Python 3",
   "language": "python",
   "name": "python3"
  },
  "language_info": {
   "codemirror_mode": {
    "name": "ipython",
    "version": 3
   },
   "file_extension": ".py",
   "mimetype": "text/x-python",
   "name": "python",
   "nbconvert_exporter": "python",
   "pygments_lexer": "ipython3",
   "version": "3.7.1"
  }
 },
 "nbformat": 4,
 "nbformat_minor": 4
}
